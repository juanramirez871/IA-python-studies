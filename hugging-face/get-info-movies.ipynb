{
 "cells": [
  {
   "cell_type": "code",
   "execution_count": 15,
   "metadata": {},
   "outputs": [
    {
     "data": {
      "text/plain": [
       "True"
      ]
     },
     "execution_count": 15,
     "metadata": {},
     "output_type": "execute_result"
    }
   ],
   "source": [
    "import os\n",
    "from dotenv import load_dotenv\n",
    "import requests\n",
    "from langchain_openai import ChatOpenAI\n",
    "from langchain.chains import LLMChain\n",
    "from langchain.prompts import PromptTemplate\n",
    "\n",
    "load_dotenv()"
   ]
  },
  {
   "cell_type": "markdown",
   "metadata": {},
   "source": [
    "## Mode Noob 🤒"
   ]
  },
  {
   "cell_type": "code",
   "execution_count": 12,
   "metadata": {},
   "outputs": [],
   "source": [
    "movie = \"inside out 2\"\n",
    "url = f\"https://api.themoviedb.org/3/search/movie?query={movie}&include_adult=false&language=en-US&page=1\"\n",
    "headers = {\n",
    "    \"accept\": \"application/json\",\n",
    "    \"Authorization\": \"Bearer \" + os.environ['TMDB_API_KEY']\n",
    "}\n",
    "\n",
    "response = requests.get(url, headers=headers)"
   ]
  },
  {
   "cell_type": "code",
   "execution_count": 10,
   "metadata": {},
   "outputs": [
    {
     "name": "stdout",
     "output_type": "stream",
     "text": [
      "{'page': 1, 'results': [{'adult': False, 'backdrop_path': '/xg27NrXi7VXCGUr7MG75UqLl6Vg.jpg', 'genre_ids': [16, 10751, 12, 35], 'id': 1022789, 'original_language': 'en', 'original_title': 'Inside Out 2', 'overview': \"Teenager Riley's mind headquarters is undergoing a sudden demolition to make room for something entirely unexpected: new Emotions! Joy, Sadness, Anger, Fear and Disgust, who’ve long been running a successful operation by all accounts, aren’t sure how to feel when Anxiety shows up. And it looks like she’s not alone.\", 'popularity': 6206.176, 'poster_path': '/vpnVM9B6NMmQpWeZvzLvDESb2QY.jpg', 'release_date': '2024-06-11', 'title': 'Inside Out 2', 'video': False, 'vote_average': 7.734, 'vote_count': 1182}, {'adult': False, 'backdrop_path': None, 'genre_ids': [14, 878], 'id': 353917, 'original_language': 'en', 'original_title': 'Inside Out 2', 'overview': 'Softcore anthology film containing stories: \"Mis-apprehended\"; \"I\\'ve Got A Crush On You\"; \"The Freak\"; \"There\\'s This Travelling Salesman, See\"; \"Double Vision\"; \"Busty Gusty and her Twin 50\\'s\"; \"Some Guys Have All The Luck\"; \"The Hitchhiker\"; and \"The Right Number\".', 'popularity': 9.335, 'poster_path': '/rzICHfvXqwlx12Je5dV4DXW2uI0.jpg', 'release_date': '1992-06-11', 'title': 'Inside Out 2', 'video': False, 'vote_average': 3.0, 'vote_count': 3}, {'adult': False, 'backdrop_path': None, 'genre_ids': [], 'id': 1309983, 'original_language': 'en', 'original_title': 'Inside Out 2: A Special Look', 'overview': 'Get a special look at \"Inside Out 2,\" now playing in theaters.', 'popularity': 2.294, 'poster_path': '/unmFFYZ4NSvcGnessABsA5RfqQw.jpg', 'release_date': '', 'title': 'Inside Out 2: A Special Look', 'video': False, 'vote_average': 8.0, 'vote_count': 1}, {'adult': False, 'backdrop_path': None, 'genre_ids': [], 'id': 785294, 'original_language': 'en', 'original_title': \"Bob Harper: Inside Out Method - Bob's Workout 2\", 'overview': \"An exclusive look at the cutting edge routines from Bob's very own training regime.  This is high-intensity, sports infused, circuit training at its max for high-powered weight loss, fat burn and muscle building.  Challenge your workout.  30 minutes of advanced core based lower body training, with Bob introducing his toughest routines yet.  Go harder and get your hardest body possible!\", 'popularity': 1.527, 'poster_path': '/9zrGWRa079ai1DiXkjhpSoxplkU.jpg', 'release_date': '2010-01-01', 'title': \"Bob Harper: Inside Out Method - Bob's Workout 2\", 'video': True, 'vote_average': 0.0, 'vote_count': 0}, {'adult': False, 'backdrop_path': None, 'genre_ids': [], 'id': 705309, 'original_language': 'en', 'original_title': 'Bob Harper: Inside Out Method - Yoga for the Warrior Workout 2', 'overview': '15 minutes of powerful yoga abs as Bob pushes you through this invigorating routine based on building a strong, defined and balanced core.', 'popularity': 2.007, 'poster_path': '/zOpOgnph9yGap6brQiTK6RyMr9w.jpg', 'release_date': '2010-01-01', 'title': 'Bob Harper: Inside Out Method - Yoga for the Warrior Workout 2', 'video': True, 'vote_average': 0.0, 'vote_count': 0}, {'adult': False, 'backdrop_path': None, 'genre_ids': [], 'id': 600806, 'original_language': 'en', 'original_title': 'Bob Harper: Inside Out Method - Body Rev Cardio Conditioning Workout 2', 'overview': '25 Minutes of turbo charged, body-shaping cardio that allows you to target trouble spots when time is limited.', 'popularity': 0.185, 'poster_path': '/aiTyHQgKV1J00YRcDfbUORahPMy.jpg', 'release_date': '2010-01-01', 'title': 'Bob Harper: Inside Out Method - Body Rev Cardio Conditioning Workout 2', 'video': True, 'vote_average': 0.0, 'vote_count': 0}, {'adult': False, 'backdrop_path': None, 'genre_ids': [], 'id': 600813, 'original_language': 'en', 'original_title': 'Bob Harper: Inside Out Method - Pure Burn, Super Strength Workout 2', 'overview': 'A 25 minute beginner workout to get you started.  Bob will show you the steps, but you have to take them.', 'popularity': 0.973, 'poster_path': '/5lBV5mKhBxYZ01rwIhIUidaDs03.jpg', 'release_date': '2010-01-01', 'title': 'Bob Harper: Inside Out Method - Pure Burn, Super Strength Workout 2', 'video': True, 'vote_average': 0.0, 'vote_count': 0}, {'adult': False, 'backdrop_path': None, 'genre_ids': [], 'id': 965899, 'original_language': 'en', 'original_title': 'Red Turns Into Blue: Athens, Inside-Out 2', 'overview': \"In 1987, Bill Cody and Tony Gayton filmed the seminal music doc Athens, GA - Inside/Out featuring R.E.M., the B-52's and Pylon, among many other bands. Thirty years later, Bill returns on a new journey that uncovers a Southern city that is leading the way in progressive politics and the beginnings of true racial equity. Once again featuring members of R.E.M., the B-52's and Pylon, only now bolstered by a new generation of artists and activists including Mariah Parker aka Linqua Franqa, Kishi Bashi, Patterson Hood and the Drive-By Truckers. Follow along the journey through the social changes that have come to the forefront of our American dialogue.\", 'popularity': 2.111, 'poster_path': '/wHdOOzAwFknmTFUKqzfyC6TNjsh.jpg', 'release_date': '2021-11-05', 'title': 'Red Turns Into Blue: Athens, Inside-Out 2', 'video': False, 'vote_average': 0.0, 'vote_count': 0}], 'total_pages': 1, 'total_results': 8}\n"
     ]
    }
   ],
   "source": [
    "response = response.json()\n",
    "print(response)"
   ]
  },
  {
   "cell_type": "markdown",
   "metadata": {},
   "source": [
    "## Mode Pro 🥱"
   ]
  },
  {
   "cell_type": "code",
   "execution_count": 18,
   "metadata": {},
   "outputs": [],
   "source": [
    "def movies(movie: str) -> str:\n",
    "    import requests\n",
    "    url = f\"https://api.themoviedb.org/3/search/movie?query={movie}&include_adult=false&language=en-US&page=1\"\n",
    "    headers = {\n",
    "        \"accept\": \"application/json\",\n",
    "        \"Authorization\": \"Bearer \" + os.environ['TMDB_API_KEY']\n",
    "    }\n",
    "    response = requests.get(url, headers=headers)\n",
    "    return response.text"
   ]
  },
  {
   "cell_type": "code",
   "execution_count": 25,
   "metadata": {},
   "outputs": [],
   "source": [
    "template = \"\"\" I give you information about some movies, you should tell me the information (spanish) of title, date of release and overview of three movies appears\n",
    "first, it should have structured form (if appears less than three movies, you should tell me the information of the movies that appears). {movie}\n",
    "\"\"\""
   ]
  },
  {
   "cell_type": "code",
   "execution_count": 27,
   "metadata": {},
   "outputs": [],
   "source": [
    "prompt_template = PromptTemplate(\n",
    "    input_variables=[\"movie\"],\n",
    "    template=template\n",
    ")"
   ]
  },
  {
   "cell_type": "code",
   "execution_count": 29,
   "metadata": {},
   "outputs": [],
   "source": [
    "llm = ChatOpenAI(\n",
    "    temperature=0,\n",
    "    model_name=\"gpt-3.5-turbo\"\n",
    ")\n",
    "\n",
    "chain = LLMChain(llm=llm, prompt=prompt_template)"
   ]
  },
  {
   "cell_type": "code",
   "execution_count": 30,
   "metadata": {},
   "outputs": [
    {
     "name": "stdout",
     "output_type": "stream",
     "text": [
      "1. Título: Inside Out 2\n",
      "   Fecha de lanzamiento: 11 de junio de 2024\n",
      "   Descripción: La sede central de la mente de la adolescente Riley está siendo demolida repentinamente para dar paso a algo completamente inesperado: ¡nuevas emociones! Alegría, Tristeza, Enojo, Miedo y Asco, que han estado dirigiendo con éxito la operación, no están seguros de cómo sentirse cuando la Ansiedad aparece. Y parece que no está sola.\n",
      "\n",
      "2. Título: Inside Out 2\n",
      "   Fecha de lanzamiento: 11 de junio de 1992\n",
      "   Descripción: Película de antología softcore que contiene historias como \"Malentendido\", \"Tengo un flechazo contigo\", \"El monstruo\", \"Hay este viajante, verás\", \"Visión doble\", \"Busty Gusty y sus gemelas de los años 50\", \"Algunos chicos tienen toda la suerte\", \"El autoestopista\" y \"El número correcto\".\n",
      "\n",
      "3. Título: Inside Out 2: A Special Look\n",
      "   Fecha de lanzamiento: No disponible\n",
      "   Descripción: Obtén un vistazo especial a \"Inside Out 2\", ahora en cines.\n"
     ]
    }
   ],
   "source": [
    "information_movie = movies(\"inside out 2\")\n",
    "print(chain.run(movie=information_movie))"
   ]
  }
 ],
 "metadata": {
  "kernelspec": {
   "display_name": ".venv",
   "language": "python",
   "name": "python3"
  },
  "language_info": {
   "codemirror_mode": {
    "name": "ipython",
    "version": 3
   },
   "file_extension": ".py",
   "mimetype": "text/x-python",
   "name": "python",
   "nbconvert_exporter": "python",
   "pygments_lexer": "ipython3",
   "version": "3.11.9"
  }
 },
 "nbformat": 4,
 "nbformat_minor": 2
}
