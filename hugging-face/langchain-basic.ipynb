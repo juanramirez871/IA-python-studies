{
 "cells": [
  {
   "cell_type": "code",
   "execution_count": 4,
   "metadata": {},
   "outputs": [
    {
     "data": {
      "text/plain": [
       "True"
      ]
     },
     "execution_count": 4,
     "metadata": {},
     "output_type": "execute_result"
    }
   ],
   "source": [
    "from dotenv import load_dotenv\n",
    "\n",
    "load_dotenv()"
   ]
  },
  {
   "cell_type": "markdown",
   "metadata": {},
   "source": [
    "## Propmt template 🧐"
   ]
  },
  {
   "cell_type": "code",
   "execution_count": 32,
   "metadata": {},
   "outputs": [],
   "source": [
    "from langchain.prompts import PromptTemplate\n",
    "\n",
    "propmt = PromptTemplate.from_template(\"Describe an object that you find {adjective} and why it has effect on you.\")"
   ]
  },
  {
   "cell_type": "code",
   "execution_count": 34,
   "metadata": {},
   "outputs": [
    {
     "data": {
      "text/plain": [
       "'Describe an object that you find awful and why it has effect on you.'"
      ]
     },
     "execution_count": 34,
     "metadata": {},
     "output_type": "execute_result"
    }
   ],
   "source": [
    "propmt.format(adjective=\"awful\")"
   ]
  },
  {
   "cell_type": "code",
   "execution_count": 35,
   "metadata": {},
   "outputs": [
    {
     "data": {
      "text/plain": [
       "'you are useful assistent that translates from {language_input} to {language_output} of text: {text}'"
      ]
     },
     "execution_count": 35,
     "metadata": {},
     "output_type": "execute_result"
    }
   ],
   "source": [
    "template = \"you are useful assistent that translates from {language_input} to {language_output} of text: {text}\"\n",
    "template"
   ]
  },
  {
   "cell_type": "code",
   "execution_count": 43,
   "metadata": {},
   "outputs": [],
   "source": [
    "text = \"Me encanta programar y la plata\""
   ]
  },
  {
   "cell_type": "code",
   "execution_count": 37,
   "metadata": {},
   "outputs": [],
   "source": [
    "prompt_template = PromptTemplate(\n",
    "    input_variables=[\"language_input\", \"language_output\", \"text\"],\n",
    "    template=template,\n",
    ")"
   ]
  },
  {
   "cell_type": "markdown",
   "metadata": {},
   "source": [
    "## Wrapper Wikipedia 🌍"
   ]
  },
  {
   "cell_type": "code",
   "execution_count": 3,
   "metadata": {},
   "outputs": [],
   "source": [
    "from langchain_community.tools import WikipediaQueryRun\n",
    "from langchain_community.utilities import WikipediaAPIWrapper"
   ]
  },
  {
   "cell_type": "code",
   "execution_count": 24,
   "metadata": {},
   "outputs": [],
   "source": [
    "api_wrapper = WikipediaAPIWrapper(top_k_results=1, doc_content_chars_max=500)\n",
    "tool = WikipediaQueryRun(api_wrapper=api_wrapper)"
   ]
  },
  {
   "cell_type": "code",
   "execution_count": 15,
   "metadata": {},
   "outputs": [
    {
     "name": "stdout",
     "output_type": "stream",
     "text": [
      "wikipedia\n",
      "A wrapper around Wikipedia. Useful for when you need to answer general questions about people, places, companies, facts, historical events, or other subjects. Input should be a search query.\n",
      "{'query': {'title': 'Query', 'description': 'query to look up on wikipedia', 'type': 'string'}}\n"
     ]
    }
   ],
   "source": [
    "print(tool.name)\n",
    "print(tool.description)\n",
    "print(tool.args)"
   ]
  },
  {
   "cell_type": "code",
   "execution_count": 25,
   "metadata": {},
   "outputs": [
    {
     "data": {
      "text/plain": [
       "'Page: Cryptocurrency\\nSummary: A cryptocurrency, crypto-currency, or crypto is a digital currency designed to work as a medium of exchange through a computer network that is not reliant on any central authority, such as a government or bank, to uphold or maintain it. \\nIndividual coin ownership records are stored in a digital ledger, which is a computerized database using strong cryptography to secure transaction records, control the creation of additional coins, and verify the transfer of coin ow'"
      ]
     },
     "execution_count": 25,
     "metadata": {},
     "output_type": "execute_result"
    }
   ],
   "source": [
    "tool.run({ 'query': \"what is the purpose of cryptocurrencies\" })"
   ]
  },
  {
   "cell_type": "markdown",
   "metadata": {},
   "source": [
    "## Tavily Search 🔍"
   ]
  },
  {
   "cell_type": "code",
   "execution_count": 31,
   "metadata": {},
   "outputs": [
    {
     "data": {
      "text/plain": [
       "[{'url': 'https://www.accuweather.com/en/co/piedecuesta/106558/weather-forecast/106558',\n",
       "  'content': 'Dust & Dander Very High. World South America Colombia Santander Piedecuesta. Piedecuesta, Santander, Colombia Weather Forecast, with current conditions, wind, air quality, and what to expect for ...'},\n",
       " {'url': 'https://www.wunderground.com/forecast/co/piedecuesta',\n",
       "  'content': 'Weather Underground provides local & long-range weather forecasts, weatherreports, maps & tropical weather conditions for the Piedecuesta area. ... Piedecuesta, Santander, Colombia 10-Day Weather ...'},\n",
       " {'url': 'https://www.wunderground.com/weather/co/piedecuesta',\n",
       "  'content': 'Weather Underground provides local & long-range weather forecasts, weatherreports, maps & tropical weather conditions for the Piedecuesta area. ... Piedecuesta, Santander, Colombia Weather ...'},\n",
       " {'url': 'https://weather.com/weather/tenday/l/Piedecuesta+Santander+Colombia?canonicalCityId=cd837aca110e42132aa00708f506bdb417893d32eae4f77ba53268ccf5e0f2df',\n",
       "  'content': 'Be prepared with the most accurate 10-day forecast for Piedecuesta, Santander, Colombia with highs, lows, chance of precipitation from The Weather Channel and Weather.com'},\n",
       " {'url': 'https://www.accuweather.com/en/co/piedecuesta/106558/current-weather/106558',\n",
       "  'content': 'World South America Colombia Santander Piedecuesta. Be prepared for the day. Check the current conditions for Piedecuesta, Santander, Colombia for the day ahead, with radar, hourly, and up to the ...'}]"
      ]
     },
     "execution_count": 31,
     "metadata": {},
     "output_type": "execute_result"
    }
   ],
   "source": [
    "from langchain_community.tools.tavily_search import TavilySearchResults\n",
    "\n",
    "search = TavilySearchResults()\n",
    "search.invoke({ 'query': \"what is the temperature in piedecuesta Santander Colombia\" })"
   ]
  },
  {
   "cell_type": "markdown",
   "metadata": {},
   "source": [
    "## Calling LLM 📞"
   ]
  },
  {
   "cell_type": "code",
   "execution_count": 38,
   "metadata": {},
   "outputs": [],
   "source": [
    "from langchain_openai import ChatOpenAI\n",
    "from langchain.chains import LLMChain"
   ]
  },
  {
   "cell_type": "code",
   "execution_count": 45,
   "metadata": {},
   "outputs": [],
   "source": [
    "llm = ChatOpenAI(temperature=0, model_name=\"gpt-3.5-turbo\")\n",
    "\n",
    "chain = LLMChain(llm=llm, prompt=prompt_template)"
   ]
  },
  {
   "cell_type": "code",
   "execution_count": 46,
   "metadata": {},
   "outputs": [
    {
     "name": "stdout",
     "output_type": "stream",
     "text": [
      "{'language_input': 'spanish', 'language_output': 'english', 'text': 'I love programming and money'}\n"
     ]
    }
   ],
   "source": [
    "answer = chain.invoke(\n",
    "    input={\n",
    "        \"language_input\": \"spanish\",\n",
    "        \"language_output\": \"english\",\n",
    "        \"text\": text\n",
    "    }\n",
    ")\n",
    "\n",
    "print(answer)"
   ]
  },
  {
   "cell_type": "markdown",
   "metadata": {},
   "source": [
    "## simple Chains 🕸️"
   ]
  },
  {
   "cell_type": "code",
   "execution_count": 47,
   "metadata": {},
   "outputs": [],
   "source": [
    "from langchain_openai import ChatOpenAI\n",
    "from langchain.chains import LLMChain\n",
    "from langchain import PromptTemplate"
   ]
  },
  {
   "cell_type": "code",
   "execution_count": 50,
   "metadata": {},
   "outputs": [],
   "source": [
    "llm = ChatOpenAI(temperature=0, model_name=\"gpt-3.5-turbo\")\n",
    "template = \"You are a experienced detective. you should describe the important clue that allowed to be solved the {case} in {city}.\"\n",
    "propmt_template = PromptTemplate.from_template(template=template)"
   ]
  },
  {
   "cell_type": "code",
   "execution_count": 51,
   "metadata": {},
   "outputs": [
    {
     "name": "stdout",
     "output_type": "stream",
     "text": [
      "\n",
      "\n",
      "\u001b[1m> Entering new LLMChain chain...\u001b[0m\n",
      "Prompt after formatting:\n",
      "\u001b[32;1m\u001b[1;3mYou are a experienced detective. you should describe the important clue that allowed the case to be solved from Desaparicion de la madrasta in Londres.\u001b[0m\n",
      "\n",
      "\u001b[1m> Finished chain.\u001b[0m\n"
     ]
    }
   ],
   "source": [
    "chain = LLMChain(\n",
    "    llm=llm,\n",
    "    prompt=propmt_template,\n",
    "    verbose=True\n",
    ")\n",
    "\n",
    "output = chain.invoke(\n",
    "    {\n",
    "        \"case\": \"Desaparicion de la madrasta\",\n",
    "        \"city\": \"Londres\"\n",
    "    }\n",
    ")"
   ]
  },
  {
   "cell_type": "code",
   "execution_count": 56,
   "metadata": {},
   "outputs": [
    {
     "name": "stdout",
     "output_type": "stream",
     "text": [
      "{'case': 'Desaparicion de la madrasta', 'city': 'Londres', 'text': \"The important clue that allowed the case of the disappearance of the stepmother in London to be solved was a security camera footage from a nearby convenience store. The footage showed the stepmother entering the store on the day of her disappearance, but she was not alone. A man was seen following her closely and acting suspiciously.\\n\\nUpon further investigation, it was discovered that the man in the footage was a known criminal with a history of violence. The detectives were able to track him down and question him about the stepmother's disappearance. After intense interrogation, the man confessed to kidnapping and murdering the stepmother in a fit of rage.\\n\\nThe security camera footage was crucial in linking the suspect to the crime and ultimately solving the case. It provided a clear timeline of events and helped the detectives piece together what had happened to the stepmother. Without this important clue, the case may have remained unsolved.\"}\n"
     ]
    }
   ],
   "source": [
    "print(output)"
   ]
  },
  {
   "cell_type": "markdown",
   "metadata": {},
   "source": [
    "## Sequential Chains 🕸️🦿"
   ]
  },
  {
   "cell_type": "code",
   "execution_count": 57,
   "metadata": {},
   "outputs": [],
   "source": [
    "from langchain_openai import ChatOpenAI\n",
    "from langchain.chains import LLMChain, SimpleSequentialChain\n",
    "from langchain import PromptTemplate"
   ]
  },
  {
   "cell_type": "code",
   "execution_count": 61,
   "metadata": {},
   "outputs": [],
   "source": [
    "llm1 = ChatOpenAI(temperature=0.5, model_name=\"gpt-3.5-turbo\")\n",
    "prompt_template1 = PromptTemplate.from_template(\"You are a experienced scientist and programmer in python. you write a function that add the concept of {concept}.\")\n",
    "chain1 = LLMChain(llm=llm1, prompt=prompt_template1)"
   ]
  },
  {
   "cell_type": "code",
   "execution_count": 62,
   "metadata": {},
   "outputs": [],
   "source": [
    "llm2 = ChatOpenAI(temperature=0.5, model_name=\"gpt-3.5-turbo\")\n",
    "prompt_template2 = PromptTemplate.from_template(\"according to the function of python {function}, you should describe it as detailed as possible.\")\n",
    "chain2 = LLMChain(llm=llm2, prompt=prompt_template2)"
   ]
  },
  {
   "cell_type": "code",
   "execution_count": 64,
   "metadata": {},
   "outputs": [
    {
     "name": "stdout",
     "output_type": "stream",
     "text": [
      "\n",
      "\n",
      "\u001b[1m> Entering new SimpleSequentialChain chain...\u001b[0m\n",
      "\u001b[36;1m\u001b[1;3mSure, here is an example of a function in Python that uses recursion to calculate the factorial of a number:\n",
      "\n",
      "```python\n",
      "def factorial(n):\n",
      "    if n == 0:\n",
      "        return 1\n",
      "    else:\n",
      "        return n * factorial(n-1)\n",
      "```\n",
      "\n",
      "In this function, if the input `n` is 0, it returns 1 (since the factorial of 0 is 1). Otherwise, it recursively calls the `factorial` function with `n-1` until `n` reaches 0, multiplying each value of `n` along the way.\u001b[0m\n",
      "\u001b[33;1m\u001b[1;3mThis Python function `factorial` calculates the factorial of a given number `n`. \n",
      "\n",
      "The function starts with an `if` statement to check if `n` is equal to 0. If `n` is 0, the function returns 1, as the factorial of 0 is defined to be 1.\n",
      "\n",
      "If `n` is not 0, the function recursively calls itself with the argument `n-1`. This recursive call continues until `n` reaches 0, at which point the base case is triggered and the function starts returning values back up the chain of recursive calls.\n",
      "\n",
      "Each recursive call multiplies the current value of `n` with the result of the factorial of `n-1`. This process continues until the base case is reached, at which point the final result (the factorial of the original input `n`) is calculated and returned.\n",
      "\n",
      "Recursion is a powerful technique in programming that allows a function to call itself in order to solve a problem. In this case, the recursive nature of the `factorial` function allows for an elegant and concise solution to calculating factorials.\u001b[0m\n",
      "\n",
      "\u001b[1m> Finished chain.\u001b[0m\n"
     ]
    },
    {
     "data": {
      "text/plain": [
       "{'input': 'recursion',\n",
       " 'output': 'This Python function `factorial` calculates the factorial of a given number `n`. \\n\\nThe function starts with an `if` statement to check if `n` is equal to 0. If `n` is 0, the function returns 1, as the factorial of 0 is defined to be 1.\\n\\nIf `n` is not 0, the function recursively calls itself with the argument `n-1`. This recursive call continues until `n` reaches 0, at which point the base case is triggered and the function starts returning values back up the chain of recursive calls.\\n\\nEach recursive call multiplies the current value of `n` with the result of the factorial of `n-1`. This process continues until the base case is reached, at which point the final result (the factorial of the original input `n`) is calculated and returned.\\n\\nRecursion is a powerful technique in programming that allows a function to call itself in order to solve a problem. In this case, the recursive nature of the `factorial` function allows for an elegant and concise solution to calculating factorials.'}"
      ]
     },
     "execution_count": 64,
     "metadata": {},
     "output_type": "execute_result"
    }
   ],
   "source": [
    "overall_chain = SimpleSequentialChain(chains=[chain1, chain2], verbose=True)\n",
    "overall_chain.invoke(\"recursion\")"
   ]
  },
  {
   "cell_type": "markdown",
   "metadata": {},
   "source": [
    "## Context of llm 🧠"
   ]
  },
  {
   "cell_type": "code",
   "execution_count": 65,
   "metadata": {},
   "outputs": [],
   "source": [
    "from langchain_openai import ChatOpenAI"
   ]
  },
  {
   "cell_type": "code",
   "execution_count": 66,
   "metadata": {},
   "outputs": [
    {
     "name": "stdout",
     "output_type": "stream",
     "text": [
      "Recursion is a programming technique where a function calls itself in order to solve a problem. This allows for solving complex problems by breaking them down into smaller, more manageable subproblems. \n",
      "\n",
      "In a recursive function, there are two main components: the base case and the recursive case. The base case is the condition that stops the recursion and provides a result, while the recursive case is where the function calls itself with a modified input to solve a smaller version of the original problem.\n",
      "\n",
      "Recursion is commonly used in algorithms such as tree traversal, sorting, and searching. It can be a powerful tool for solving problems that can be broken down into smaller, similar subproblems. However, it is important to be cautious when using recursion, as it can lead to stack overflow errors if not implemented correctly.\n"
     ]
    }
   ],
   "source": [
    "llm = ChatOpenAI(temperature=0.1, model_name=\"gpt-3.5-turbo\")\n",
    "output = llm.invoke(\"explains the concept of recursion\")\n",
    "print(output.content)"
   ]
  },
  {
   "cell_type": "code",
   "execution_count": 68,
   "metadata": {},
   "outputs": [],
   "source": [
    "from langchain.schema import (\n",
    "    SystemMessage,\n",
    "    AIMessage,\n",
    "    HumanMessage\n",
    ")"
   ]
  },
  {
   "cell_type": "code",
   "execution_count": 72,
   "metadata": {},
   "outputs": [],
   "source": [
    "messages = [\n",
    "    SystemMessage(content=\"You are a chef and you always response to the questions about cooking\"),\n",
    "    HumanMessage(content=\"explains the concept of recursion\")\n",
    "]"
   ]
  },
  {
   "cell_type": "code",
   "execution_count": 73,
   "metadata": {},
   "outputs": [
    {
     "name": "stdout",
     "output_type": "stream",
     "text": [
      "Recursion in cooking can be thought of as a technique where a recipe calls for a smaller or similar version of itself to be repeated within the same recipe. For example, in a lasagna recipe, you might have layers of pasta, sauce, cheese, and repeat this layering process multiple times to create the final dish. Each layer within the lasagna could be seen as a recursive step, building upon the previous one to create a finished product.\n"
     ]
    }
   ],
   "source": [
    "llm = ChatOpenAI(temperature=1.1, model_name=\"gpt-3.5-turbo\")\n",
    "output = llm.invoke(messages)\n",
    "print(output.content)"
   ]
  },
  {
   "cell_type": "markdown",
   "metadata": {},
   "source": [
    "## ReAct Agent (RAG) 📚"
   ]
  },
  {
   "cell_type": "code",
   "execution_count": 3,
   "metadata": {},
   "outputs": [
    {
     "name": "stderr",
     "output_type": "stream",
     "text": [
      "Python REPL can execute arbitrary code. Use with caution.\n"
     ]
    },
    {
     "data": {
      "text/plain": [
       "'Hello World\\n'"
      ]
     },
     "execution_count": 3,
     "metadata": {},
     "output_type": "execute_result"
    }
   ],
   "source": [
    "from langchain_experimental.utilities import PythonREPL\n",
    "python_repl = PythonREPL()\n",
    "\n",
    "# python_repl execute a python code\n",
    "python_repl.run(\"print('Hello World')\")"
   ]
  },
  {
   "cell_type": "code",
   "execution_count": 2,
   "metadata": {},
   "outputs": [],
   "source": [
    "from langchain.prompts import PromptTemplate\n",
    "from langchain import hub\n",
    "from langchain.agents import Tool, AgentExecutor, initialize_agent, create_react_agent\n",
    "from langchain.tools import DuckDuckGoSearchRun, WikipediaQueryRun\n",
    "from langchain.utilities import WikipediaAPIWrapper\n",
    "from langchain_experimental.tools.python.tool import PythonREPLTool\n",
    "from langchain_openai import ChatOpenAI"
   ]
  },
  {
   "cell_type": "code",
   "execution_count": 5,
   "metadata": {},
   "outputs": [],
   "source": [
    "llm = ChatOpenAI(temperature=0, model=\"gpt-3.5-turbo\")"
   ]
  },
  {
   "cell_type": "code",
   "execution_count": 12,
   "metadata": {},
   "outputs": [],
   "source": [
    "template = '''Respond to the following question in Spanish and do it the best you can. Questions: {question}'''\n",
    "\n",
    "prompt_template = PromptTemplate.from_template(template)\n",
    "prompt = hub.pull('hwchase17/react')"
   ]
  },
  {
   "cell_type": "code",
   "execution_count": 7,
   "metadata": {},
   "outputs": [],
   "source": [
    "#1. Python REPL Tool\n",
    "\n",
    "python_repl = PythonREPLTool()\n",
    "python_repl_tool = Tool(\n",
    "    name=\"Repl Python\",\n",
    "    func=python_repl.run,\n",
    "    description=\"Useful tool to execute python code, you can use it to resolve any doubt about python, you should enter the code in python\",\n",
    ")"
   ]
  },
  {
   "cell_type": "code",
   "execution_count": 8,
   "metadata": {},
   "outputs": [],
   "source": [
    "#2. Wikipedia Query Tool\n",
    "\n",
    "api_wrapper = WikipediaAPIWrapper()\n",
    "wikipedia = WikipediaQueryRun(api_wrapper=api_wrapper)\n",
    "wikipedia_tool = Tool(\n",
    "    name=\"Wikipedia\",\n",
    "    func=wikipedia.run,\n",
    "    description=\"This tool allows you to search for information on Wikipedia, it is very useful to find information about historical events, people and similar topics.\",\n",
    ")"
   ]
  },
  {
   "cell_type": "code",
   "execution_count": 11,
   "metadata": {},
   "outputs": [],
   "source": [
    "#3. DuckDuckGo Search Tool\n",
    "\n",
    "search = DuckDuckGoSearchRun()\n",
    "duckduck_tool = Tool(\n",
    "    name=\"DuckDuckGo Seach\",\n",
    "    func=search.run,\n",
    "    description=\"This tool allows you to search for information on the internet, it is useful to find information about any topic.\",\n",
    ")"
   ]
  },
  {
   "cell_type": "code",
   "execution_count": 13,
   "metadata": {},
   "outputs": [],
   "source": [
    "tools = [python_repl_tool, wikipedia_tool, duckduck_tool]\n",
    "agent = create_react_agent(llm, tools, prompt)\n",
    "\n",
    "agent_executor = AgentExecutor(\n",
    "    agent=agent,\n",
    "    tools=tools,\n",
    "    verbose=True,\n",
    "    handle_parsing_errors=True,\n",
    "    max_iterations=10\n",
    ")"
   ]
  },
  {
   "cell_type": "code",
   "execution_count": 14,
   "metadata": {},
   "outputs": [
    {
     "name": "stdout",
     "output_type": "stream",
     "text": [
      "\n",
      "\n",
      "\u001b[1m> Entering new AgentExecutor chain...\u001b[0m\n",
      "\u001b[32;1m\u001b[1;3mI should use the Wikipedia tool to find information about the history of James Rodríguez in Spanish.\n",
      "Action: Wikipedia\n",
      "Action Input: \"historia de James Rodríguez\"\u001b[0m\u001b[33;1m\u001b[1;3mPage: Michelle Rodriguez\n",
      "Summary: Mayte Michelle Rodríguez (born July 12, 1978) is an American actress. She began her career in 2000, playing a troubled boxer in the independent sports drama film Girlfight (2000), where she won the Independent Spirit Award and Gotham Award for Best Debut Performance. Rodriguez plays Letty Ortiz in the Fast & Furious franchise, and portrayed Rain Ocampo in the Resident Evil franchise. She appeared in the crime thriller S.W.A.T. (2003), and later starred in James Cameron's science fiction epic Avatar (2009) and in the action film Battle: Los Angeles (2011).\n",
      "After portraying Minerva Mirabal in the biopic Trópico de Sangre (2010), Rodriguez headlined the exploitation films Machete (2010) and Machete Kills (2013), and starred in the animated comedy films Turbo (2013) and Smurfs: The Lost Village (2017), while her performance in the heist film Widows (2018) was critically praised.\n",
      "Outside of film, Rodriguez played Ana Lucia Cortez in the drama television series Lost (2005–2006; 2009–2010), and voiced Liz Ricarro in the English-language translation of the anime Immortal Grand Prix (2005–2006). She reprised her roles in video game spin-offs of Avatar and Fast & Furious, and also appeared in True Crime: Streets of LA (2003), Driver 3 (2004), Halo 2 (2004), and Call of Duty: Black Ops II (2012).\n",
      "\n",
      "\n",
      "\n",
      "Page: James the Great\n",
      "Summary: James the Great (Koinē Greek: Ἰάκωβος, romanized: Iákōbos; Aramaic: ܝܥܩܘܒ, romanized: Yaʿqōḇ; died AD 44) was one of the Twelve Apostles of Jesus. According to the New Testament, he was the second of the apostles to die (after Judas Iscariot), and the first to be martyred. Saint James is the patron saint of Spain and, according to tradition, his remains are held in Santiago de Compostela in Galicia.\n",
      "He is also known as James, son of Zebedee, Saint James the Great, Saint James the Greater, Saint James the Elder, or Saint Jacob or Santiago.\n",
      "\n",
      "\n",
      "\n",
      "Page: Francisco de Miranda\n",
      "Summary: Sebastián Francisco de Miranda y Rodríguez de Espinoza (28 March 1750 – 14 July 1816), commonly known as Francisco de Miranda (Latin American Spanish: [fɾanˈsisko ðe miˈɾanda]), was a Venezuelan military leader and revolutionary who fought in the American Revolutionary War, the French Revolution and the Spanish American wars of independence. He is regarded as a precursor of South America's liberation from the Spanish Empire, and remains known as the \"First Universal Venezuelan\" and the \"Great Universal American\".\n",
      "Born in Caracas in the Viceroyalty of New Granada into a wealthy family, Miranda left to pursue an education in Madrid in 1771 and subsequently enlisted in the Spanish army.\n",
      "In 1780, following Spain's entry into the American Revolutionary War, he was sent to Cuba and fought the British at Pensacola. Accused of espionage and smuggling, he fled to the United States in 1783. Miranda returned to Europe in 1785 and travelled through the continent, gradually formulating his plans for Spanish American independence. From 1791 on, he took an active part in the French Revolution, serving as a general during the Battle of Valmy and the Flanders campaign. An associate of the Girondins, he became disillusioned by the Revolution and was forced to leave for Britain.\n",
      "In 1806, Miranda launched an unsuccessful expedition to liberate Venezuela with volunteers from the United States. He returned to Caracas following the outbreak of the Venezuelan War of Independence in 1810 and was granted dictatorial powers after the establishment of the First Republic. In 1812, the republic collapsed and Miranda was forced to finalize an armistice with Spanish royalists. Other revolutionary leaders including Simón Bolívar considered his capitulation treasonous, and allowed his arrest by the Spanish authorities. He was taken to a prison in Cádiz, where he died four years later.\u001b[0m\u001b[32;1m\u001b[1;3mThe information about James Rodríguez is not showing up, I should try a different search term.\n",
      "Action: Wikipedia\n",
      "Action Input: \"James Rodríguez historia\"\u001b[0m\u001b[33;1m\u001b[1;3mPage: Michelle Rodriguez\n",
      "Summary: Mayte Michelle Rodríguez (born July 12, 1978) is an American actress. She began her career in 2000, playing a troubled boxer in the independent sports drama film Girlfight (2000), where she won the Independent Spirit Award and Gotham Award for Best Debut Performance. Rodriguez plays Letty Ortiz in the Fast & Furious franchise, and portrayed Rain Ocampo in the Resident Evil franchise. She appeared in the crime thriller S.W.A.T. (2003), and later starred in James Cameron's science fiction epic Avatar (2009) and in the action film Battle: Los Angeles (2011).\n",
      "After portraying Minerva Mirabal in the biopic Trópico de Sangre (2010), Rodriguez headlined the exploitation films Machete (2010) and Machete Kills (2013), and starred in the animated comedy films Turbo (2013) and Smurfs: The Lost Village (2017), while her performance in the heist film Widows (2018) was critically praised.\n",
      "Outside of film, Rodriguez played Ana Lucia Cortez in the drama television series Lost (2005–2006; 2009–2010), and voiced Liz Ricarro in the English-language translation of the anime Immortal Grand Prix (2005–2006). She reprised her roles in video game spin-offs of Avatar and Fast & Furious, and also appeared in True Crime: Streets of LA (2003), Driver 3 (2004), Halo 2 (2004), and Call of Duty: Black Ops II (2012).\n",
      "\n",
      "\n",
      "\n",
      "Page: James the Great\n",
      "Summary: James the Great (Koinē Greek: Ἰάκωβος, romanized: Iákōbos; Aramaic: ܝܥܩܘܒ, romanized: Yaʿqōḇ; died AD 44) was one of the Twelve Apostles of Jesus. According to the New Testament, he was the second of the apostles to die (after Judas Iscariot), and the first to be martyred. Saint James is the patron saint of Spain and, according to tradition, his remains are held in Santiago de Compostela in Galicia.\n",
      "He is also known as James, son of Zebedee, Saint James the Great, Saint James the Greater, Saint James the Elder, or Saint Jacob or Santiago.\n",
      "\n",
      "\n",
      "\n",
      "Page: David Summers Rodríguez\n",
      "Summary: David Summers Rodríguez (born 26 February 1964) is a Spanish musician, singer-songwriter, and bassist. He is best known as the lead vocalist of the Spanish pop rock band Hombres G.\u001b[0m\u001b[32;1m\u001b[1;3mI'm still not finding information about James Rodríguez. I should try a different search engine to see if I can get more relevant results.\n",
      "Action: DuckDuckGo Search\n",
      "Action Input: \"James Rodríguez history\"\u001b[0mDuckDuckGo Search is not a valid tool, try one of [Repl Python, Wikipedia, DuckDuckGo Seach].\u001b[32;1m\u001b[1;3mI should try using the Wikipedia tool again with a different search term to find information about James Rodríguez.\n",
      "Action: Wikipedia\n",
      "Action Input: \"James Rodríguez biografía\"\u001b[0m\u001b[33;1m\u001b[1;3mPage: David Summers Rodríguez\n",
      "Summary: David Summers Rodríguez (born 26 February 1964) is a Spanish musician, singer-songwriter, and bassist. He is best known as the lead vocalist of the Spanish pop rock band Hombres G.\n",
      "\n",
      "Page: Narciso Rodriguez\n",
      "Summary: Narciso Jesus Rodriguez III (Latin American Spanish: [naɾˈsiso roˈðɾiɣes]; born January 27, 1961) is an American fashion designer.\n",
      "\n",
      "Page: Farabundo Martí\n",
      "Summary: Agustín Farabundo Martí Rodríguez (Spanish pronunciation: [faɾaˈβundo maɾˈti]; 5 May 1893 – 1 February 1932) was a Marxist-Leninist activist and a revolutionary leader in El Salvador during La Matanza.\u001b[0m\u001b[32;1m\u001b[1;3mI'm still not getting the information I need about James Rodríguez. I should try a different approach.\n",
      "Action: DuckDuckGo Search\n",
      "Action Input: \"James Rodríguez historia\"\u001b[0mDuckDuckGo Search is not a valid tool, try one of [Repl Python, Wikipedia, DuckDuckGo Seach].\u001b[32;1m\u001b[1;3mI should try using the Wikipedia tool again with a different search term to find information about James Rodríguez.\n",
      "Action: Wikipedia\n",
      "Action Input: \"James Rodríguez jugador de fútbol\"\u001b[0m\u001b[33;1m\u001b[1;3mPage: James Rodríguez\n",
      "Summary: James David Rodríguez Rubio (born 12 July 1991) is a Colombian professional footballer who plays as an attacking midfielder or winger for Brasileirão club São Paulo and captains the Colombia national team. He has been praised for his technique, vision, and playmaking skills, and was often considered the successor to his compatriot Carlos Valderrama.\n",
      "Starting his career at Envigado, and then moving to Argentina side Banfield, James became well known in Europe during his time at Porto, winning several trophies and individual awards during his three years at the club. In 2014, James moved from AS Monaco to Real Madrid for a transfer fee of £63 million, beating Radamel Falcao as the most expensive Colombian football player and one of the most expensive players at the time. In his debut season, he was named in the La Liga Team of the Season and won La Liga Best Midfielder. In 2017, he signed for German club Bayern Munich on a two-year loan deal. In the summer of 2020, he signed for Premier League club Everton on a free transfer, staying there for one season before joining Qatar's Al-Rayyan and Greece's Olympiacos in 2021 and 2022, respectively. In 2023, 13 years after leaving South America, he returned to the continent by joining Brazilian club São Paulo.\n",
      "James started his international career with the Colombia under-20 team, with which he won the 2011 Toulon Tournament. He then captained the U-20 team during the 2011 FIFA U-20 World Cup. Due to his performance in the tournament, he was regularly called into the senior squad by the age of 20. He played in the 2014 and 2018 FIFA World Cup, winning the Golden Boot in 2014 and being included in the Cup's All Star Team. He also represented his nation at the Copa América in 2015, 2016, 2019 and 2024, winning a third-place medal in 2016.\n",
      "\n",
      "Page: Forex Club\n",
      "Summary: Forex Club is a group of companies based in Saint Vincent and the Grenadines participating in the retail market of Contract for difference, Foreign Exchange Trading. The company uses the Libertex web and mobile trading platform in addition to MT4 and its structure includes financial and educational companies.\n",
      "\n",
      "\n",
      "\n",
      "Page: Valencia CF\n",
      "Summary: Valencia Club de Fútbol (Spanish: [baˈlenθja ˈkluβ ðe ˈfuðβol]; Valencian: València Club de Futbol [vaˈlensi.a ˈklub de fubˈbɔl]), commonly referred to as Valencia CF (or simply Valencia), is a Spanish professional football club based in Valencia, Spain, that currently plays in La Liga, the top flight of the Spanish league system. Valencia was founded in 1919 and has played its home games at the 49,430-seater Mestalla since it's opening.\n",
      "Valencia has won six Spanish League titles, eight Copa del Rey titles, one Supercopa de España, and one Copa Eva Duarte. In European competitions, they have won two Inter-Cities Fairs Cups, one UEFA Cup, one UEFA Cup Winners' Cup, two UEFA Super Cups, and one UEFA Intertoto Cup. They have also reached two UEFA Champions League finals in a row (2000 and 2001). Valencia were also members of the G-14 group of leading European football clubs and since its end has been part of the original members of the European Club Association. In total, Valencia have reached seven major European finals, winning four of them.\n",
      "Historically one of the biggest clubs in the world in terms of number of associates (registered paying supporters), with around 50,000 season ticket holders at their peak, the club began to decline in the mid-2010s. Singaporean billionaire Peter Lim acquired the team in 2014.\n",
      "Over the years, the club has achieved a global reputation for their prolific youth academy, or \"Acadèmia.\" Products of their academy include world-class talents such as Raúl Albiol, Javier Farinos, David Albelda, Vicente Rodríguez, Gaizka Mendieta and David Silva. Current stars of the game to have graduated in recent years include Isco, Jordi Alba, Juan Bernat, José Gayà, Carlos Soler, Ferran Torres, Lee Kang-in and Yunus Musah.\u001b[0m\u001b[32;1m\u001b[1;3mI now know the final answer\n",
      "Final Answer: James David Rodríguez Rubio is a Colombian professional footballer who plays as an attacking midfielder or winger for Brasileirão club São Paulo and captains the Colombia national team.\u001b[0m\n",
      "\n",
      "\u001b[1m> Finished chain.\u001b[0m\n"
     ]
    }
   ],
   "source": [
    "question = 'tell me about the history of James Rodríguez'\n",
    "output = agent_executor.invoke({\n",
    "    'input': prompt_template.format(question=question)\n",
    "})"
   ]
  },
  {
   "cell_type": "code",
   "execution_count": 15,
   "metadata": {},
   "outputs": [
    {
     "name": "stdout",
     "output_type": "stream",
     "text": [
      "\n",
      "\n",
      "\u001b[1m> Entering new AgentExecutor chain...\u001b[0m\n"
     ]
    },
    {
     "name": "stderr",
     "output_type": "stream",
     "text": [
      "Python REPL can execute arbitrary code. Use with caution.\n"
     ]
    },
    {
     "name": "stdout",
     "output_type": "stream",
     "text": [
      "\u001b[32;1m\u001b[1;3mI should use the Repl Python tool to write a function that removes duplicates from a list in Python.\n",
      "Action: Repl Python\n",
      "Action Input: \n",
      "```python\n",
      "def remove_duplicates(input_list):\n",
      "    return list(set(input_list))\n",
      "```\u001b[0m\u001b[36;1m\u001b[1;3m\u001b[0m\u001b[32;1m\u001b[1;3mI should test the function to see if it works correctly.\n",
      "Action: Repl Python\n",
      "Action Input: \n",
      "```python\n",
      "test_list = [1, 2, 2, 3, 4, 4, 5]\n",
      "remove_duplicates(test_list)\n",
      "```\u001b[0m\u001b[36;1m\u001b[1;3m\u001b[0m\u001b[32;1m\u001b[1;3mThe function seems to be working correctly.\n",
      "Final Answer: You can create a function in Python to remove duplicates from a list by using the following code:\n",
      "\n",
      "```python\n",
      "def remove_duplicates(input_list):\n",
      "    return list(set(input_list))\n",
      "```\u001b[0m\n",
      "\n",
      "\u001b[1m> Finished chain.\u001b[0m\n"
     ]
    }
   ],
   "source": [
    "question = 'how i can create a function in python that remove the duplicates of a list?'\n",
    "output = agent_executor.invoke({\n",
    "    'input': prompt_template.format(question=question)\n",
    "})"
   ]
  },
  {
   "cell_type": "code",
   "execution_count": 16,
   "metadata": {},
   "outputs": [
    {
     "name": "stdout",
     "output_type": "stream",
     "text": [
      "Note: you may need to restart the kernel to use updated packages.\n"
     ]
    },
    {
     "name": "stderr",
     "output_type": "stream",
     "text": [
      "\n",
      "[notice] A new release of pip is available: 24.1.1 -> 24.1.2\n",
      "[notice] To update, run: python.exe -m pip install --upgrade pip\n"
     ]
    },
    {
     "name": "stdout",
     "output_type": "stream",
     "text": [
      "Note: you may need to restart the kernel to use updated packages.\n"
     ]
    },
    {
     "name": "stderr",
     "output_type": "stream",
     "text": [
      "\n",
      "[notice] A new release of pip is available: 24.1.1 -> 24.1.2\n",
      "[notice] To update, run: python.exe -m pip install --upgrade pip\n"
     ]
    },
    {
     "name": "stdout",
     "output_type": "stream",
     "text": [
      "Name: pinecone-client\n",
      "Version: 4.1.2\n",
      "Summary: Pinecone client and SDK\n",
      "Home-page: https://www.pinecone.io\n",
      "Author: Pinecone Systems, Inc.\n",
      "Author-email: support@pinecone.io\n",
      "License: Apache-2.0\n",
      "Location: c:\\Users\\Diego\\Documents\\study\\python\\.venv\\Lib\\site-packages\n",
      "Requires: certifi, pinecone-plugin-interface, tqdm, typing-extensions, urllib3\n",
      "Required-by: \n",
      "Note: you may need to restart the kernel to use updated packages.\n"
     ]
    }
   ],
   "source": []
  }
 ],
 "metadata": {
  "kernelspec": {
   "display_name": ".venv",
   "language": "python",
   "name": "python3"
  },
  "language_info": {
   "codemirror_mode": {
    "name": "ipython",
    "version": 3
   },
   "file_extension": ".py",
   "mimetype": "text/x-python",
   "name": "python",
   "nbconvert_exporter": "python",
   "pygments_lexer": "ipython3",
   "version": "3.11.9"
  }
 },
 "nbformat": 4,
 "nbformat_minor": 2
}
