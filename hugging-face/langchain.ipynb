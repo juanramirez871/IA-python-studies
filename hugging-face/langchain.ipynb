{
 "cells": [
  {
   "cell_type": "code",
   "execution_count": 29,
   "metadata": {},
   "outputs": [
    {
     "data": {
      "text/plain": [
       "True"
      ]
     },
     "execution_count": 29,
     "metadata": {},
     "output_type": "execute_result"
    }
   ],
   "source": [
    "from dotenv import load_dotenv\n",
    "\n",
    "load_dotenv()"
   ]
  },
  {
   "cell_type": "markdown",
   "metadata": {},
   "source": [
    "## Propm template 🧐"
   ]
  },
  {
   "cell_type": "code",
   "execution_count": 7,
   "metadata": {},
   "outputs": [],
   "source": [
    "from langchain.prompts import PromptTemplate\n",
    "\n",
    "propmt = PromptTemplate.from_template(\"Describe an object that you find {adjective} and why it has effect on you.\")"
   ]
  },
  {
   "cell_type": "code",
   "execution_count": 8,
   "metadata": {},
   "outputs": [
    {
     "data": {
      "text/plain": [
       "'Describe an object that you find awful and why it has effect on you.'"
      ]
     },
     "execution_count": 8,
     "metadata": {},
     "output_type": "execute_result"
    }
   ],
   "source": [
    "propmt.format(adjective=\"awful\")"
   ]
  },
  {
   "cell_type": "code",
   "execution_count": 10,
   "metadata": {},
   "outputs": [
    {
     "data": {
      "text/plain": [
       "'you are useful assistent that translates from {language_input} to {language_output} of text: {text}'"
      ]
     },
     "execution_count": 10,
     "metadata": {},
     "output_type": "execute_result"
    }
   ],
   "source": [
    "template = \"you are useful assistent that translates from {language_input} to {language_output} of text: {text}\"\n",
    "template"
   ]
  },
  {
   "cell_type": "code",
   "execution_count": 11,
   "metadata": {},
   "outputs": [],
   "source": [
    "text = \"I love programming\""
   ]
  },
  {
   "cell_type": "code",
   "execution_count": 19,
   "metadata": {},
   "outputs": [],
   "source": [
    "prompt_template = PromptTemplate(\n",
    "    input_variables=[\"language_input\", \"language_output\", \"text\"],\n",
    "    template=template,\n",
    ")"
   ]
  },
  {
   "cell_type": "markdown",
   "metadata": {},
   "source": [
    "## Wrapper Wikipedia 🌍"
   ]
  },
  {
   "cell_type": "code",
   "execution_count": 3,
   "metadata": {},
   "outputs": [],
   "source": [
    "from langchain_community.tools import WikipediaQueryRun\n",
    "from langchain_community.utilities import WikipediaAPIWrapper"
   ]
  },
  {
   "cell_type": "code",
   "execution_count": 24,
   "metadata": {},
   "outputs": [],
   "source": [
    "api_wrapper = WikipediaAPIWrapper(top_k_results=1, doc_content_chars_max=500)\n",
    "tool = WikipediaQueryRun(api_wrapper=api_wrapper)"
   ]
  },
  {
   "cell_type": "code",
   "execution_count": 15,
   "metadata": {},
   "outputs": [
    {
     "name": "stdout",
     "output_type": "stream",
     "text": [
      "wikipedia\n",
      "A wrapper around Wikipedia. Useful for when you need to answer general questions about people, places, companies, facts, historical events, or other subjects. Input should be a search query.\n",
      "{'query': {'title': 'Query', 'description': 'query to look up on wikipedia', 'type': 'string'}}\n"
     ]
    }
   ],
   "source": [
    "print(tool.name)\n",
    "print(tool.description)\n",
    "print(tool.args)"
   ]
  },
  {
   "cell_type": "code",
   "execution_count": 25,
   "metadata": {},
   "outputs": [
    {
     "data": {
      "text/plain": [
       "'Page: Cryptocurrency\\nSummary: A cryptocurrency, crypto-currency, or crypto is a digital currency designed to work as a medium of exchange through a computer network that is not reliant on any central authority, such as a government or bank, to uphold or maintain it. \\nIndividual coin ownership records are stored in a digital ledger, which is a computerized database using strong cryptography to secure transaction records, control the creation of additional coins, and verify the transfer of coin ow'"
      ]
     },
     "execution_count": 25,
     "metadata": {},
     "output_type": "execute_result"
    }
   ],
   "source": [
    "tool.run({ 'query': \"what is the purpose of cryptocurrencies\" })"
   ]
  },
  {
   "cell_type": "markdown",
   "metadata": {},
   "source": [
    "## Tavily Search 🔍"
   ]
  },
  {
   "cell_type": "code",
   "execution_count": 30,
   "metadata": {},
   "outputs": [
    {
     "data": {
      "text/plain": [
       "[{'url': 'https://www.investopedia.com/terms/c/cryptocurrency.asp',\n",
       "  'content': \"Removes single points of failure\\nEasier to transfer funds between parties\\nRemoves third parties\\nCan be used to generate returns\\nRemittances are streamlined\\nTransactions are pseudonymous\\nPseudonymity allows for criminal uses\\nHave become highly centralized\\nExpensive to participate in a network and earn\\nOff-chain security issues\\nPrices are very volatile\\nAdvantages Explained\\nCryptocurrencies represent a new, decentralized paradigm for money. Thus, a system with cryptocurrencies eliminates the possibility of a single point of failure—such as a large financial institution setting off a cascade of global crises, such as the one triggered in 2008 by the failure of large investment banks in the U.S.\\nCryptocurrencies promise to make transferring funds directly between two parties easier without needing a trusted third party like a bank or a credit card company. Here are some of the types you'll find with some of the names of tokens in that category:\\nIf you find a cryptocurrency that doesn't fall into one of these categories, you've found a new category or something that needs to be investigated to be sure it's legitimate.\\n In addition to the market risks associated with speculative assets, cryptocurrency investors should be aware of the following risks:\\nDespite these risks, cryptocurrencies have seen a significant price leap, with the total market capitalization rising to about $1.2 trillion. Financial institutions such as JPMorgan Chase & Co. (JPM) are using blockchain technology to lower transaction costs by streamlining payment processing.\\nTypes of Cryptocurrency\\nMany cryptocurrencies were created to facilitate work done on the blockchain they are built on.\"},\n",
       " {'url': 'https://www.nerdwallet.com/article/investing/cryptocurrency',\n",
       "  'content': 'How to buy cryptocurrency\\nCharles Schwab\\nInteractive Brokers IBKR Lite\\nWebull\\n4.9\\n5.0\\n4.7\\nFees\\n$0\\nper trade\\nFees\\n$0\\nper trade\\nFees\\n$0\\nper trade\\nAccount minimum\\n$0\\nAccount minimum\\n$0\\nAccount minimum\\n$0\\nPromotion\\nNone\\nno promotion available at this time\\nPromotion\\nNone\\nno promotion available at this time\\nPromotion\\nGet up to 75 free fractional shares (valued up to $3,000)\\nwhen you open and fund an account with Webull.\\n There are several ways of reaching \"consensus\" on a blockchain network, but the two that are most widely used are known as \"proof of work\" and \"proof of stake.”\\nProof of work\\nis one way of incentivizing users to help maintain an accurate historical record of who owns what on a blockchain network. There are several ways of reaching \"consensus\" on a blockchain network, but the two that are most widely used are known as \"proof of work\" and \"proof of stake.”\\nProof of work is one way of incentivizing users to help maintain an accurate historical record of who owns what on a blockchain network. A comparison by the University of Cambridge, for instance, said worldwide Bitcoin mining consumes more than twice as much power as all U.S. residential lighting[0]\\nGovernments around the world have not yet fully reckoned with how to handle cryptocurrency, so regulatory changes and crackdowns have the potential to affect the market in unpredictable ways.\\n Here are the steps:\\nConnect the wallet that holds the cryptocurrencies that you want to sell, and make sure the exchange you’ve chosen supports both that wallet and the asset in question.\\n'},\n",
       " {'url': 'https://www.forbes.com/advisor/investing/cryptocurrency/what-is-cryptocurrency/',\n",
       "  'content': \"Because crypto is a highly speculative investment, with the potential for intense price swings, some financial advisors don’t recommend people invest at all.\\nPros and Cons of Cryptocurrency\\nPeter Palion, a certified financial planner (CFP) in East Norwich, New York, thinks it’s safer to stick to a currency backed by a government, like the U.S. dollar.\\n That means the miners might barely break even with the crypto they receive for validating transactions after considering the costs of power and computing resources.\\nProof of Stake\\nSome cryptocurrencies use a proof of stake verification method to reduce the amount of power necessary to check transactions. (US Only)\\n1%/1%\\n20+\\n1\\neToro\\nVia eToro's Website\\n2\\nUphold\\n0.95%/1.25%\\n250+\\n2\\nUphold\\nOn Uphold's WebsiteTerms Apply. With proof of stake, the number of transactions each person can verify is limited by the amount of cryptocurrency they’re willing to “stake,” or temporarily lock up in a communal safe for the chance to participate in the process.\\n Your capital is at risk.\\n3\\nCrypto.com\\n0.40%/0.40%\\n170+\\n3\\nCrypto.com\\nOn Crypto.com's Website\\nIt’s best to keep in mind that buying individual cryptocurrencies are similar to buying individual stocks.\"},\n",
       " {'url': 'https://www.coindesk.com/learn/what-is-cryptocurrency/',\n",
       "  'content': \"And How Do They Work?\\nCrash Courses\\nConsensus Magazine\\nOpinion\\nEthereum Has Gatekeepers (for Good Reason)\\nOpinion\\nEther’s Prometheum Test\\nOpinion\\nWelcome to the ‘Bitcoin Era’ on Wall Street\\nOpinion\\nBitcoin Mining and the Politicization of a Once Reputable Federal Agency\\nMost Recent Issue\\nProtocol Village\\nNews\\nProtocol Village: Tezos Blockchain's 'Oxford 2' Upgrade Brings 'Private Smart Rollups'\\nNews\\nWhat Is ERC-404? Product Depart\\nNews\\nCoinDesk’s New Owner Bullish Replaces CEO in Restructuring\\nOpinion\\nCrypto for Advisors: Bitcoin as a Building Block for Portfolios\\nNews\\nCryptodollar Minting Protocol M^0 Will Allow Institutions to Issue Stablecoins Backed by U.S. Treasuries\\nPolicy\\nNews\\nNew York Expands Fraud Case Against Digital Currency Group to $3 Billion\\nNews\\nUK’s Planned Stablecoin Rules Need Reworking, Crypto Advocates Say\\nNews\\nU.S. Senators Podcasts\\nUnchained with Laura Shin\\nAre the Feds Coming After Bitcoin Miners?\\nTests, Restaking, and Upgrades: How Is the Blockchain Ecosystem Shaping Up?\\nCrypto Update | BTC Breaks $45k; Don't Brush Off the Long-Term Importance of Bitcoin ETFs, Ric Edelman Explains\\nEvents\\nConsensus 2024\\nIndices\\nHow to Build the Infrastructure of Web3 With Decentralized Data and Services\\n Bitcoin stagne alors que les traders attendent avec impatience « l'année du dragon »\\nMarkets\\nNews\\nBitcoin Tops $47K as Spot Bitcoin ETFs Book One of Their Best Days\\nNews\\nVibe Check: Momentum Building: CoinDesk Indices' Todd Groth\\nNews\\nFirst Mover Americas: Bitcoin Seen Topping $50K This Weekend\\nNews\\nCrypto Stocks Rally Pre-Market as Bitcoin Tops $46K\\nFinance\\nNews\\nRipple-Owned Crypto Custody Firm Metaco's CEO and Head of TV & Videos\\nCrypto Bets for the Super Bowl and Taylor Swift Ramp Up; Bitcoin Tops $47K\\nCrypto Bets for the Super Bowl and Taylor Swift Ramp Up; Bitcoin Tops $47K\\nBitcoin Crosses $47K Propelled by Historic Chinese New Year Gains\\nTraders on Decentralized Betting Platform Polymarket Expect 49ers to Win Super Bowl\\nWatch On\\n(Formerly Twitter)\\nFacebook\\nSign up for our newsletters\\n\"},\n",
       " {'url': 'https://www.businessinsider.com/personal-finance/what-is-cryptocurrency?op=1',\n",
       "  'content': 'Coming to consensus\\nCryptocurrencies commonly use one of two mechanisms to create a system of trust and determine which transactions are valid and added to their blockchain:\\nTypes of cryptocurrencies\\nAccording to CoinMarketCap, there were more than 25,149 different cryptocurrencies with a global market value of about $1.16 trillion as of May 30, 2023. \"On the blockchain, it would say I\\'m sending you one coin, and I now have one coin, and you have one coin.\"\\nEach grouping of transactions is turned into a block and chained to the existing ledger. \"You have a private key, which is how you initiate transactions, and a public key, which is how someone identifies you in the market,\" says Donovan.\\n While there may be opportunities to build wealth, there are a lot of risks involved with crypto investing, and you need to be mindful of scams.\\n \"\\nFor example, stablecoins are a type of cryptocurrency that try to maintain a steady and fixed exchange rate with another asset, such as the US dollar.'}]"
      ]
     },
     "execution_count": 30,
     "metadata": {},
     "output_type": "execute_result"
    }
   ],
   "source": [
    "from langchain_community.tools.tavily_search import TavilySearchResults\n",
    "\n",
    "search = TavilySearchResults()\n",
    "search.invoke({ 'query': \"what is the purpose of cryptocurrencies\" })"
   ]
  },
  {
   "cell_type": "markdown",
   "metadata": {},
   "source": [
    "## Calling LLM 📞"
   ]
  },
  {
   "cell_type": "code",
   "execution_count": 13,
   "metadata": {},
   "outputs": [],
   "source": [
    "from langchain_openai import ChatOpenAI\n",
    "from langchain.chains import LLMChain"
   ]
  },
  {
   "cell_type": "code",
   "execution_count": 20,
   "metadata": {},
   "outputs": [],
   "source": [
    "llm = ChatOpenAI(temperature=0, model_name=\"gpt-3.5-turbo\")\n",
    "\n",
    "chain = LLMChain(llm=llm, prompt=prompt_template)"
   ]
  },
  {
   "cell_type": "code",
   "execution_count": null,
   "metadata": {},
   "outputs": [],
   "source": [
    "answer = chain.invoke(\n",
    "    input={\n",
    "        \"language_input\": \"espanish\",\n",
    "        \"language_output\": \"english\",\n",
    "        \"text\": text\n",
    "    }\n",
    ")\n",
    "\n",
    "print(answer)"
   ]
  }
 ],
 "metadata": {
  "kernelspec": {
   "display_name": ".venv",
   "language": "python",
   "name": "python3"
  },
  "language_info": {
   "codemirror_mode": {
    "name": "ipython",
    "version": 3
   },
   "file_extension": ".py",
   "mimetype": "text/x-python",
   "name": "python",
   "nbconvert_exporter": "python",
   "pygments_lexer": "ipython3",
   "version": "3.11.9"
  }
 },
 "nbformat": 4,
 "nbformat_minor": 2
}
