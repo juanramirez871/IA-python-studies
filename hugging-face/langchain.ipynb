{
 "cells": [
  {
   "cell_type": "code",
   "execution_count": 7,
   "metadata": {},
   "outputs": [
    {
     "data": {
      "text/plain": [
       "True"
      ]
     },
     "execution_count": 7,
     "metadata": {},
     "output_type": "execute_result"
    }
   ],
   "source": [
    "from dotenv import load_dotenv\n",
    "\n",
    "load_dotenv()"
   ]
  },
  {
   "cell_type": "markdown",
   "metadata": {},
   "source": [
    "## Propm template 🧐"
   ]
  },
  {
   "cell_type": "code",
   "execution_count": 32,
   "metadata": {},
   "outputs": [],
   "source": [
    "from langchain.prompts import PromptTemplate\n",
    "\n",
    "propmt = PromptTemplate.from_template(\"Describe an object that you find {adjective} and why it has effect on you.\")"
   ]
  },
  {
   "cell_type": "code",
   "execution_count": 34,
   "metadata": {},
   "outputs": [
    {
     "data": {
      "text/plain": [
       "'Describe an object that you find awful and why it has effect on you.'"
      ]
     },
     "execution_count": 34,
     "metadata": {},
     "output_type": "execute_result"
    }
   ],
   "source": [
    "propmt.format(adjective=\"awful\")"
   ]
  },
  {
   "cell_type": "code",
   "execution_count": 35,
   "metadata": {},
   "outputs": [
    {
     "data": {
      "text/plain": [
       "'you are useful assistent that translates from {language_input} to {language_output} of text: {text}'"
      ]
     },
     "execution_count": 35,
     "metadata": {},
     "output_type": "execute_result"
    }
   ],
   "source": [
    "template = \"you are useful assistent that translates from {language_input} to {language_output} of text: {text}\"\n",
    "template"
   ]
  },
  {
   "cell_type": "code",
   "execution_count": 43,
   "metadata": {},
   "outputs": [],
   "source": [
    "text = \"Me encanta programar y la plata\""
   ]
  },
  {
   "cell_type": "code",
   "execution_count": 37,
   "metadata": {},
   "outputs": [],
   "source": [
    "prompt_template = PromptTemplate(\n",
    "    input_variables=[\"language_input\", \"language_output\", \"text\"],\n",
    "    template=template,\n",
    ")"
   ]
  },
  {
   "cell_type": "markdown",
   "metadata": {},
   "source": [
    "## Wrapper Wikipedia 🌍"
   ]
  },
  {
   "cell_type": "code",
   "execution_count": 3,
   "metadata": {},
   "outputs": [],
   "source": [
    "from langchain_community.tools import WikipediaQueryRun\n",
    "from langchain_community.utilities import WikipediaAPIWrapper"
   ]
  },
  {
   "cell_type": "code",
   "execution_count": 24,
   "metadata": {},
   "outputs": [],
   "source": [
    "api_wrapper = WikipediaAPIWrapper(top_k_results=1, doc_content_chars_max=500)\n",
    "tool = WikipediaQueryRun(api_wrapper=api_wrapper)"
   ]
  },
  {
   "cell_type": "code",
   "execution_count": 15,
   "metadata": {},
   "outputs": [
    {
     "name": "stdout",
     "output_type": "stream",
     "text": [
      "wikipedia\n",
      "A wrapper around Wikipedia. Useful for when you need to answer general questions about people, places, companies, facts, historical events, or other subjects. Input should be a search query.\n",
      "{'query': {'title': 'Query', 'description': 'query to look up on wikipedia', 'type': 'string'}}\n"
     ]
    }
   ],
   "source": [
    "print(tool.name)\n",
    "print(tool.description)\n",
    "print(tool.args)"
   ]
  },
  {
   "cell_type": "code",
   "execution_count": 25,
   "metadata": {},
   "outputs": [
    {
     "data": {
      "text/plain": [
       "'Page: Cryptocurrency\\nSummary: A cryptocurrency, crypto-currency, or crypto is a digital currency designed to work as a medium of exchange through a computer network that is not reliant on any central authority, such as a government or bank, to uphold or maintain it. \\nIndividual coin ownership records are stored in a digital ledger, which is a computerized database using strong cryptography to secure transaction records, control the creation of additional coins, and verify the transfer of coin ow'"
      ]
     },
     "execution_count": 25,
     "metadata": {},
     "output_type": "execute_result"
    }
   ],
   "source": [
    "tool.run({ 'query': \"what is the purpose of cryptocurrencies\" })"
   ]
  },
  {
   "cell_type": "markdown",
   "metadata": {},
   "source": [
    "## Tavily Search 🔍"
   ]
  },
  {
   "cell_type": "code",
   "execution_count": 31,
   "metadata": {},
   "outputs": [
    {
     "data": {
      "text/plain": [
       "[{'url': 'https://www.accuweather.com/en/co/piedecuesta/106558/weather-forecast/106558',\n",
       "  'content': 'Dust & Dander Very High. World South America Colombia Santander Piedecuesta. Piedecuesta, Santander, Colombia Weather Forecast, with current conditions, wind, air quality, and what to expect for ...'},\n",
       " {'url': 'https://www.wunderground.com/forecast/co/piedecuesta',\n",
       "  'content': 'Weather Underground provides local & long-range weather forecasts, weatherreports, maps & tropical weather conditions for the Piedecuesta area. ... Piedecuesta, Santander, Colombia 10-Day Weather ...'},\n",
       " {'url': 'https://www.wunderground.com/weather/co/piedecuesta',\n",
       "  'content': 'Weather Underground provides local & long-range weather forecasts, weatherreports, maps & tropical weather conditions for the Piedecuesta area. ... Piedecuesta, Santander, Colombia Weather ...'},\n",
       " {'url': 'https://weather.com/weather/tenday/l/Piedecuesta+Santander+Colombia?canonicalCityId=cd837aca110e42132aa00708f506bdb417893d32eae4f77ba53268ccf5e0f2df',\n",
       "  'content': 'Be prepared with the most accurate 10-day forecast for Piedecuesta, Santander, Colombia with highs, lows, chance of precipitation from The Weather Channel and Weather.com'},\n",
       " {'url': 'https://www.accuweather.com/en/co/piedecuesta/106558/current-weather/106558',\n",
       "  'content': 'World South America Colombia Santander Piedecuesta. Be prepared for the day. Check the current conditions for Piedecuesta, Santander, Colombia for the day ahead, with radar, hourly, and up to the ...'}]"
      ]
     },
     "execution_count": 31,
     "metadata": {},
     "output_type": "execute_result"
    }
   ],
   "source": [
    "from langchain_community.tools.tavily_search import TavilySearchResults\n",
    "\n",
    "search = TavilySearchResults()\n",
    "search.invoke({ 'query': \"what is the temperature in piedecuesta Santander Colombia\" })"
   ]
  },
  {
   "cell_type": "markdown",
   "metadata": {},
   "source": [
    "## Calling LLM 📞"
   ]
  },
  {
   "cell_type": "code",
   "execution_count": 38,
   "metadata": {},
   "outputs": [],
   "source": [
    "from langchain_openai import ChatOpenAI\n",
    "from langchain.chains import LLMChain"
   ]
  },
  {
   "cell_type": "code",
   "execution_count": 45,
   "metadata": {},
   "outputs": [],
   "source": [
    "llm = ChatOpenAI(temperature=0, model_name=\"gpt-3.5-turbo\")\n",
    "\n",
    "chain = LLMChain(llm=llm, prompt=prompt_template)"
   ]
  },
  {
   "cell_type": "code",
   "execution_count": 46,
   "metadata": {},
   "outputs": [
    {
     "name": "stdout",
     "output_type": "stream",
     "text": [
      "{'language_input': 'spanish', 'language_output': 'english', 'text': 'I love programming and money'}\n"
     ]
    }
   ],
   "source": [
    "answer = chain.invoke(\n",
    "    input={\n",
    "        \"language_input\": \"spanish\",\n",
    "        \"language_output\": \"english\",\n",
    "        \"text\": text\n",
    "    }\n",
    ")\n",
    "\n",
    "print(answer)"
   ]
  },
  {
   "cell_type": "markdown",
   "metadata": {},
   "source": [
    "## simple Chains 🕸️"
   ]
  },
  {
   "cell_type": "code",
   "execution_count": 47,
   "metadata": {},
   "outputs": [],
   "source": [
    "from langchain_openai import ChatOpenAI\n",
    "from langchain.chains import LLMChain\n",
    "from langchain import PromptTemplate"
   ]
  },
  {
   "cell_type": "code",
   "execution_count": 50,
   "metadata": {},
   "outputs": [],
   "source": [
    "llm = ChatOpenAI(temperature=0, model_name=\"gpt-3.5-turbo\")\n",
    "template = \"You are a experienced detective. you should describe the important clue that allowed to be solved the {case} in {city}.\"\n",
    "propmt_template = PromptTemplate.from_template(template=template)"
   ]
  },
  {
   "cell_type": "code",
   "execution_count": 51,
   "metadata": {},
   "outputs": [
    {
     "name": "stdout",
     "output_type": "stream",
     "text": [
      "\n",
      "\n",
      "\u001b[1m> Entering new LLMChain chain...\u001b[0m\n",
      "Prompt after formatting:\n",
      "\u001b[32;1m\u001b[1;3mYou are a experienced detective. you should describe the important clue that allowed the case to be solved from Desaparicion de la madrasta in Londres.\u001b[0m\n",
      "\n",
      "\u001b[1m> Finished chain.\u001b[0m\n"
     ]
    }
   ],
   "source": [
    "chain = LLMChain(\n",
    "    llm=llm,\n",
    "    prompt=propmt_template,\n",
    "    verbose=True\n",
    ")\n",
    "\n",
    "output = chain.invoke(\n",
    "    {\n",
    "        \"case\": \"Desaparicion de la madrasta\",\n",
    "        \"city\": \"Londres\"\n",
    "    }\n",
    ")"
   ]
  },
  {
   "cell_type": "code",
   "execution_count": 56,
   "metadata": {},
   "outputs": [
    {
     "name": "stdout",
     "output_type": "stream",
     "text": [
      "{'case': 'Desaparicion de la madrasta', 'city': 'Londres', 'text': \"The important clue that allowed the case of the disappearance of the stepmother in London to be solved was a security camera footage from a nearby convenience store. The footage showed the stepmother entering the store on the day of her disappearance, but she was not alone. A man was seen following her closely and acting suspiciously.\\n\\nUpon further investigation, it was discovered that the man in the footage was a known criminal with a history of violence. The detectives were able to track him down and question him about the stepmother's disappearance. After intense interrogation, the man confessed to kidnapping and murdering the stepmother in a fit of rage.\\n\\nThe security camera footage was crucial in linking the suspect to the crime and ultimately solving the case. It provided a clear timeline of events and helped the detectives piece together what had happened to the stepmother. Without this important clue, the case may have remained unsolved.\"}\n"
     ]
    }
   ],
   "source": [
    "print(output)"
   ]
  },
  {
   "cell_type": "markdown",
   "metadata": {},
   "source": [
    "## Sequential Chains 🕸️🦿"
   ]
  },
  {
   "cell_type": "code",
   "execution_count": 57,
   "metadata": {},
   "outputs": [],
   "source": [
    "from langchain_openai import ChatOpenAI\n",
    "from langchain.chains import LLMChain, SimpleSequentialChain\n",
    "from langchain import PromptTemplate"
   ]
  },
  {
   "cell_type": "code",
   "execution_count": 61,
   "metadata": {},
   "outputs": [],
   "source": [
    "llm1 = ChatOpenAI(temperature=0.5, model_name=\"gpt-3.5-turbo\")\n",
    "prompt_template1 = PromptTemplate.from_template(\"You are a experienced scientist and programmer in python. you write a function that add the concept of {concept}.\")\n",
    "chain1 = LLMChain(llm=llm1, prompt=prompt_template1)"
   ]
  },
  {
   "cell_type": "code",
   "execution_count": 62,
   "metadata": {},
   "outputs": [],
   "source": [
    "llm2 = ChatOpenAI(temperature=0.5, model_name=\"gpt-3.5-turbo\")\n",
    "prompt_template2 = PromptTemplate.from_template(\"according to the function of python {function}, you should describe it as detailed as possible.\")\n",
    "chain2 = LLMChain(llm=llm2, prompt=prompt_template2)"
   ]
  },
  {
   "cell_type": "code",
   "execution_count": 64,
   "metadata": {},
   "outputs": [
    {
     "name": "stdout",
     "output_type": "stream",
     "text": [
      "\n",
      "\n",
      "\u001b[1m> Entering new SimpleSequentialChain chain...\u001b[0m\n",
      "\u001b[36;1m\u001b[1;3mSure, here is an example of a function in Python that uses recursion to calculate the factorial of a number:\n",
      "\n",
      "```python\n",
      "def factorial(n):\n",
      "    if n == 0:\n",
      "        return 1\n",
      "    else:\n",
      "        return n * factorial(n-1)\n",
      "```\n",
      "\n",
      "In this function, if the input `n` is 0, it returns 1 (since the factorial of 0 is 1). Otherwise, it recursively calls the `factorial` function with `n-1` until `n` reaches 0, multiplying each value of `n` along the way.\u001b[0m\n",
      "\u001b[33;1m\u001b[1;3mThis Python function `factorial` calculates the factorial of a given number `n`. \n",
      "\n",
      "The function starts with an `if` statement to check if `n` is equal to 0. If `n` is 0, the function returns 1, as the factorial of 0 is defined to be 1.\n",
      "\n",
      "If `n` is not 0, the function recursively calls itself with the argument `n-1`. This recursive call continues until `n` reaches 0, at which point the base case is triggered and the function starts returning values back up the chain of recursive calls.\n",
      "\n",
      "Each recursive call multiplies the current value of `n` with the result of the factorial of `n-1`. This process continues until the base case is reached, at which point the final result (the factorial of the original input `n`) is calculated and returned.\n",
      "\n",
      "Recursion is a powerful technique in programming that allows a function to call itself in order to solve a problem. In this case, the recursive nature of the `factorial` function allows for an elegant and concise solution to calculating factorials.\u001b[0m\n",
      "\n",
      "\u001b[1m> Finished chain.\u001b[0m\n"
     ]
    },
    {
     "data": {
      "text/plain": [
       "{'input': 'recursion',\n",
       " 'output': 'This Python function `factorial` calculates the factorial of a given number `n`. \\n\\nThe function starts with an `if` statement to check if `n` is equal to 0. If `n` is 0, the function returns 1, as the factorial of 0 is defined to be 1.\\n\\nIf `n` is not 0, the function recursively calls itself with the argument `n-1`. This recursive call continues until `n` reaches 0, at which point the base case is triggered and the function starts returning values back up the chain of recursive calls.\\n\\nEach recursive call multiplies the current value of `n` with the result of the factorial of `n-1`. This process continues until the base case is reached, at which point the final result (the factorial of the original input `n`) is calculated and returned.\\n\\nRecursion is a powerful technique in programming that allows a function to call itself in order to solve a problem. In this case, the recursive nature of the `factorial` function allows for an elegant and concise solution to calculating factorials.'}"
      ]
     },
     "execution_count": 64,
     "metadata": {},
     "output_type": "execute_result"
    }
   ],
   "source": [
    "overall_chain = SimpleSequentialChain(chains=[chain1, chain2], verbose=True)\n",
    "overall_chain.invoke(\"recursion\")"
   ]
  },
  {
   "cell_type": "markdown",
   "metadata": {},
   "source": [
    "## ReAct Agent (RAG) 📚"
   ]
  },
  {
   "cell_type": "code",
   "execution_count": 65,
   "metadata": {},
   "outputs": [],
   "source": [
    "from langchain_openai import ChatOpenAI"
   ]
  },
  {
   "cell_type": "code",
   "execution_count": 66,
   "metadata": {},
   "outputs": [
    {
     "name": "stdout",
     "output_type": "stream",
     "text": [
      "Recursion is a programming technique where a function calls itself in order to solve a problem. This allows for solving complex problems by breaking them down into smaller, more manageable subproblems. \n",
      "\n",
      "In a recursive function, there are two main components: the base case and the recursive case. The base case is the condition that stops the recursion and provides a result, while the recursive case is where the function calls itself with a modified input to solve a smaller version of the original problem.\n",
      "\n",
      "Recursion is commonly used in algorithms such as tree traversal, sorting, and searching. It can be a powerful tool for solving problems that can be broken down into smaller, similar subproblems. However, it is important to be cautious when using recursion, as it can lead to stack overflow errors if not implemented correctly.\n"
     ]
    }
   ],
   "source": [
    "llm = ChatOpenAI(temperature=0.1, model_name=\"gpt-3.5-turbo\")\n",
    "output = llm.invoke(\"explains the concept of recursion\")\n",
    "print(output.content)"
   ]
  },
  {
   "cell_type": "code",
   "execution_count": 68,
   "metadata": {},
   "outputs": [],
   "source": [
    "from langchain.schema import (\n",
    "    SystemMessage,\n",
    "    AIMessage,\n",
    "    HumanMessage\n",
    ")"
   ]
  },
  {
   "cell_type": "code",
   "execution_count": 72,
   "metadata": {},
   "outputs": [],
   "source": [
    "messages = [\n",
    "    SystemMessage(content=\"You are a chef and you always response to the questions about cooking\"),\n",
    "    HumanMessage(content=\"explains the concept of recursion\")\n",
    "]"
   ]
  },
  {
   "cell_type": "code",
   "execution_count": 73,
   "metadata": {},
   "outputs": [
    {
     "name": "stdout",
     "output_type": "stream",
     "text": [
      "Recursion in cooking can be thought of as a technique where a recipe calls for a smaller or similar version of itself to be repeated within the same recipe. For example, in a lasagna recipe, you might have layers of pasta, sauce, cheese, and repeat this layering process multiple times to create the final dish. Each layer within the lasagna could be seen as a recursive step, building upon the previous one to create a finished product.\n"
     ]
    }
   ],
   "source": [
    "llm = ChatOpenAI(temperature=1.1, model_name=\"gpt-3.5-turbo\")\n",
    "output = llm.invoke(messages)\n",
    "print(output.content)"
   ]
  },
  {
   "cell_type": "markdown",
   "metadata": {},
   "source": [
    "## Agents in Action 👣"
   ]
  },
  {
   "cell_type": "code",
   "execution_count": 3,
   "metadata": {},
   "outputs": [
    {
     "name": "stderr",
     "output_type": "stream",
     "text": [
      "Python REPL can execute arbitrary code. Use with caution.\n"
     ]
    },
    {
     "data": {
      "text/plain": [
       "'Hello World\\n'"
      ]
     },
     "execution_count": 3,
     "metadata": {},
     "output_type": "execute_result"
    }
   ],
   "source": [
    "from langchain_experimental.utilities import PythonREPL\n",
    "python_repl = PythonREPL()\n",
    "\n",
    "# python_repl execute a python code\n",
    "python_repl.run(\"print('Hello World')\")"
   ]
  },
  {
   "cell_type": "code",
   "execution_count": 4,
   "metadata": {},
   "outputs": [],
   "source": [
    "from langchain_experimental.agents.agent_toolkits import create_python_agent\n",
    "from langchain_experimental.tools.python.tool import PythonREPLTool\n",
    "from langchain_openai import ChatOpenAI"
   ]
  },
  {
   "cell_type": "code",
   "execution_count": 8,
   "metadata": {},
   "outputs": [],
   "source": [
    "llm = ChatOpenAI(temperature=0, model=\"gpt-3.5-turbo\")"
   ]
  },
  {
   "cell_type": "code",
   "execution_count": 9,
   "metadata": {},
   "outputs": [],
   "source": [
    "agent_executor = create_python_agent(\n",
    "    llm=llm,\n",
    "    tool=PythonREPLTool(),\n",
    "    verbose=True\n",
    ")"
   ]
  },
  {
   "cell_type": "code",
   "execution_count": 10,
   "metadata": {},
   "outputs": [
    {
     "name": "stdout",
     "output_type": "stream",
     "text": [
      "\n",
      "\n",
      "\u001b[1m> Entering new AgentExecutor chain...\u001b[0m\n",
      "\u001b[32;1m\u001b[1;3mWe need to sort the list in ascending order first and then filter out the prime numbers.\n",
      "Action: Python_REPL\n",
      "Action Input: numbers = [3, 1, 4, 1, 5, 9, 2, 6, 5, 3, 5]\n",
      "sorted_numbers = sorted(numbers)\n",
      "primes = [num for num in sorted_numbers if num > 1 and all(num % i != 0 for i in range(2, int(num**0.5)+1))]\n",
      "primes\u001b[0m\n",
      "Observation: \u001b[36;1m\u001b[1;3m\u001b[0m\n",
      "Thought:\u001b[32;1m\u001b[1;3mI now know the final answer\n",
      "Final Answer: [2, 3, 5]\u001b[0m\n",
      "\n",
      "\u001b[1m> Finished chain.\u001b[0m\n"
     ]
    }
   ],
   "source": [
    "prompt = \"organize the following list of numbers in ascending order: [3, 1, 4, 1, 5, 9, 2, 6, 5, 3, 5] and only leave the numbers that are prime.\"\n",
    "output = agent_executor.invoke(prompt)"
   ]
  }
 ],
 "metadata": {
  "kernelspec": {
   "display_name": ".venv",
   "language": "python",
   "name": "python3"
  },
  "language_info": {
   "codemirror_mode": {
    "name": "ipython",
    "version": 3
   },
   "file_extension": ".py",
   "mimetype": "text/x-python",
   "name": "python",
   "nbconvert_exporter": "python",
   "pygments_lexer": "ipython3",
   "version": "3.11.9"
  }
 },
 "nbformat": 4,
 "nbformat_minor": 2
}
